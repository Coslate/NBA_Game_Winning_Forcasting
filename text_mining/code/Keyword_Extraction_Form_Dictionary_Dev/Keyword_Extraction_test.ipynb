{
 "cells": [
  {
   "cell_type": "code",
   "execution_count": 3,
   "metadata": {},
   "outputs": [
    {
     "name": "stderr",
     "output_type": "stream",
     "text": [
      "Building prefix dict from /Users/coslate/Word_Segmentation/trad_word_lib/dict.txt.big ...\n",
      "Loading model from cache /var/folders/_f/wp7mv0fj6t52kpgg56b0lklh0000gn/T/jieba.ue0cc5f10575fbec1ff6a1b5deea0c5ae.cache\n",
      "Loading model cost 1.264 seconds.\n",
      "Prefix dict has been built succesfully.\n"
     ]
    },
    {
     "name": "stdout",
     "output_type": "stream",
     "text": [
      "KD,3127\n",
      "勇士,2931\n",
      "LBJ,862\n",
      "Curry,780\n",
      "KT,635\n",
      "咖哩,438\n",
      "總冠軍,437\n",
      "curry,420\n",
      "防守,404\n",
      "犯規,369\n"
     ]
    }
   ],
   "source": [
    "# import jieba 並使用繁中字典\n",
    "import jieba\n",
    "import jieba.analyse\n",
    "\n",
    "# Use the self-defined stop words\n",
    "jieba.analyse.set_stop_words(\"../Word_Segmentation/stopword_lib/stopwords.txt\")\n",
    "\n",
    "# Use traditional words lib\n",
    "jieba.set_dictionary(\"../Word_Segmentation/trad_word_lib/dict.txt.big\")\n",
    "\n",
    "with open(\"../Word_Segmentation/Total_20180614_20170510_2nd_segmentation/Total_20180614_20170510_2nd_Warriors_preprocessed_20180614_20170510.segmentated\", \"rb\") as f:\n",
    "    tags = jieba.analyse.extract_tags(f.read(), topK=10, withWeight=True)\n",
    "for tag, weight in tags:\n",
    "    print(tag + \",\" + str(int(weight * 10000)))"
   ]
  },
  {
   "cell_type": "code",
   "execution_count": 4,
   "metadata": {},
   "outputs": [
    {
     "name": "stdout",
     "output_type": "stream",
     "text": [
      "KD,0.31271728644797736\n",
      "勇士,0.2931043804766649\n",
      "LBJ,0.08621631896324948\n",
      "Curry,0.07806184185707488\n",
      "KT,0.0635496368376116\n",
      "咖哩,0.043815662387043354\n",
      "總冠軍,0.04375775342059119\n",
      "curry,0.0420992157040811\n",
      "防守,0.040441651278670436\n",
      "犯規,0.03693010648762466\n"
     ]
    }
   ],
   "source": [
    "for tag, weight in tags:\n",
    "    print(tag + \",\" + str(float(weight)))"
   ]
  },
  {
   "cell_type": "code",
   "execution_count": 8,
   "metadata": {
    "scrolled": true
   },
   "outputs": [
    {
     "name": "stderr",
     "output_type": "stream",
     "text": [
      "Building prefix dict from /Users/coslate/Word_Segmentation/trad_word_lib/dict.txt.big ...\n",
      "Loading model from cache /var/folders/_f/wp7mv0fj6t52kpgg56b0lklh0000gn/T/jieba.ue0cc5f10575fbec1ff6a1b5deea0c5ae.cache\n",
      "Loading model cost 1.281 seconds.\n",
      "Prefix dict has been built succesfully.\n"
     ]
    },
    {
     "name": "stdout",
     "output_type": "stream",
     "text": [
      "勇士,3992\n",
      "KD,3127\n",
      "LBJ,862\n",
      "Curry,780\n",
      "KT,635\n",
      "防守,618\n",
      "三分,496\n",
      "咖哩,443\n",
      "總冠軍,437\n",
      "curry,420\n",
      "犯規,369\n",
      "冠軍,352\n",
      "嘴綠,343\n",
      "kd,321\n",
      "宇宙,304\n",
      "姆斯,294\n",
      "大晴天,288\n",
      "勇迷,275\n",
      "我勇,257\n",
      "鬍子,244\n",
      "哈哈哈,242\n",
      "FMVP,237\n",
      "隊友,234\n",
      "KI,225\n",
      "起來,223\n",
      "哈哈,222\n",
      "加油,220\n",
      "失誤,212\n",
      "主場,212\n",
      "有人,211\n",
      "季後賽,210\n",
      "垃圾,210\n",
      "加入,210\n",
      "AD,209\n",
      "去年,207\n",
      "黑哨,205\n",
      "可愛,198\n",
      "不用,197\n",
      "總冠,195\n",
      "得分,192\n",
      "MVP,192\n",
      "崩潰,189\n",
      "直接,187\n",
      "NBA,186\n",
      "罰球,185\n",
      "打倒,182\n",
      "老大,182\n",
      "XDD,182\n",
      "機會,180\n",
      "兩個,176\n"
     ]
    }
   ],
   "source": [
    "import jieba\n",
    "from jieba import analyse\n",
    "\n",
    "# Use the self-defined stop words\n",
    "analyse.set_stop_words(\"../Word_Segmentation/stopword_lib/stopwords.txt.Warriors\")\n",
    "\n",
    "# Use the self-defined idf lib\n",
    "jieba.analyse.set_idf_path(\"../Word_Segmentation/self_defined_idf_word_lib/idf.txt.big.txt\");\n",
    "\n",
    "# Use traditional words lib\n",
    "jieba.set_dictionary(\"../Word_Segmentation/trad_word_lib/dict.txt.big\")\n",
    "\n",
    "file_name = '../Word_Segmentation/Total_20180614_20170510_2nd_segmentation/Total_20180614_20170510_2nd_Warriors_preprocessed_20180614_20170510.segmentated'\n",
    "with open('{x}'.format(x = file_name), 'r') as in_file:\n",
    "    lines = in_file.read()\n",
    "    \n",
    "tags = analyse.extract_tags(lines, topK=50, withWeight=True)\n",
    "for tag, weight in tags:\n",
    "    print(tag + \",\" + str(int(weight * 10000)))"
   ]
  },
  {
   "cell_type": "code",
   "execution_count": 9,
   "metadata": {},
   "outputs": [
    {
     "data": {
      "text/plain": [
       "0.3992376706592537"
      ]
     },
     "execution_count": 9,
     "metadata": {},
     "output_type": "execute_result"
    }
   ],
   "source": [
    "tags[0][1]"
   ]
  },
  {
   "cell_type": "code",
   "execution_count": 18,
   "metadata": {},
   "outputs": [
    {
     "data": {
      "text/plain": [
       "['123\\n', '345\\n', '18r108ry 192ur129ru\\n']"
      ]
     },
     "execution_count": 18,
     "metadata": {},
     "output_type": "execute_result"
    }
   ],
   "source": [
    "file_name = './test.log'\n",
    "with open('{x}'.format(x = file_name), 'r') as in_file:\n",
    "    lines = in_file.readlines()\n",
    "lines"
   ]
  },
  {
   "cell_type": "code",
   "execution_count": 17,
   "metadata": {},
   "outputs": [
    {
     "data": {
      "text/plain": [
       "['123', '345', '18r108ry 192ur129ru']"
      ]
     },
     "execution_count": 17,
     "metadata": {},
     "output_type": "execute_result"
    }
   ],
   "source": [
    "line_list = [x.strip() for x in lines]\n",
    "line_list"
   ]
  },
  {
   "cell_type": "code",
   "execution_count": 41,
   "metadata": {},
   "outputs": [
    {
     "data": {
      "text/plain": [
       "['馬刺隊, 0.8053047060966492',\n",
       " 'GDP, 0.7998441457748413',\n",
       " 'AGG, 0.7893322706222534',\n",
       " '刺, 0.7851964235305786',\n",
       " 'TP, 0.7850078344345093',\n",
       " '可愛, 0.7701191902160645',\n",
       " '波波, 0.7552112936973572',\n",
       " '奇數, 0.7490957975387573',\n",
       " 'agg, 0.7461640238761902',\n",
       " '年算, 0.7354797720909119',\n",
       " 'TD, 0.7339330315589905',\n",
       " '三老, 0.7329622507095337',\n",
       " 'Agg, 0.7304511666297913',\n",
       " 'MG, 0.7280406355857849',\n",
       " '打掛, 0.7258262038230896',\n",
       " 'Popo, 0.7250176668167114',\n",
       " 'POPO, 0.7219051122665405',\n",
       " 'popo, 0.7206659317016602',\n",
       " '刺史, 0.717413604259491',\n",
       " '03TD, 0.7117981314659119',\n",
       " '票房毒藥, 0.7096063494682312',\n",
       " 'hohoman, 0.7046051621437073',\n",
       " '慘勝, 0.7044280767440796',\n",
       " '趴車, 0.7036706805229187',\n",
       " '黑八, 0.7003517150878906',\n",
       " '兵強馬壯, 0.6996853351593018',\n",
       " '青黃不接, 0.6975071430206299',\n",
       " '聖隊, 0.6952863931655884',\n",
       " '刺刺, 0.6952008008956909',\n",
       " '0405, 0.6933777332305908',\n",
       " '西冠能, 0.6907856464385986',\n",
       " '戰馬, 0.6905941963195801',\n",
       " '贏阿拓, 0.6875759363174438',\n",
       " '嘎獸, 0.687382698059082',\n",
       " 'KL, 0.6866074800491333',\n",
       " '西冠, 0.6859362721443176',\n",
       " '原班人馬, 0.6854483485221863',\n",
       " '箭雷, 0.6851583123207092',\n",
       " '老奈, 0.6832918524742126',\n",
       " '回阿拓, 0.6831014752388',\n",
       " '年輸, 0.6820563077926636',\n",
       " '包溫, 0.6818608045578003',\n",
       " '連灰熊, 0.6807594895362854',\n",
       " 'PoPo, 0.6801601648330688',\n",
       " '09KG, 0.6794710159301758',\n",
       " '1213, 0.6792530417442322',\n",
       " '強盛時期, 0.6787059307098389',\n",
       " '無核, 0.6766116619110107',\n",
       " '拚過, 0.6762849688529968',\n",
       " '一外, 0.6761874556541443',\n",
       " '鬼切, 0.6756613254547119',\n",
       " '分都算贏, 0.6752406358718872',\n",
       " '熊有, 0.6746619343757629',\n",
       " '跑車, 0.6732861995697021',\n",
       " '鮑叔, 0.673233151435852',\n",
       " '0910, 0.6732058525085449',\n",
       " '西冠賽, 0.6729099154472351',\n",
       " '聖安東尼奧, 0.6721140742301941',\n",
       " '五霸, 0.6709900498390198',\n",
       " '阿基基, 0.6691098213195801',\n",
       " '西冠是, 0.6686124205589294',\n",
       " '拿冠前, 0.6681191325187683',\n",
       " 'kawai, 0.6676592826843262',\n",
       " '包叔, 0.6662792563438416',\n",
       " '傷個, 0.666276752948761',\n",
       " 'Gasol, 0.6658018231391907',\n",
       " '各贏, 0.6654028296470642',\n",
       " 'fransiceyho, 0.6651718616485596',\n",
       " '那一敗, 0.6651255488395691',\n",
       " '溪蛙, 0.663499116897583',\n",
       " '07, 0.6629918813705444',\n",
       " '鄧肯, 0.6609199047088623',\n",
       " '勇, 0.66091388463974',\n",
       " '阿勇, 0.6602858304977417',\n",
       " '二星, 0.6602080464363098',\n",
       " '00s, 0.6595520973205566',\n",
       " 'Manu, 0.6586809754371643',\n",
       " '因為過, 0.6584011316299438',\n",
       " '帕克, 0.6579248309135437',\n",
       " '奇談, 0.6577548980712891',\n",
       " '熊當, 0.6574522256851196',\n",
       " '猴群, 0.6570900082588196',\n",
       " '口外, 0.6569842100143433',\n",
       " '湖人過, 0.6565200686454773',\n",
       " '偶數, 0.6561257839202881',\n",
       " '0102, 0.6559333205223083',\n",
       " 'LMA, 0.6554246544837952',\n",
       " '爵雷, 0.655318021774292',\n",
       " '老塞, 0.6538322567939758',\n",
       " '能連霸, 0.6533318161964417',\n",
       " '一星, 0.6530749201774597',\n",
       " '衝樂透, 0.6529294848442078',\n",
       " '出爛招, 0.65257328748703',\n",
       " '力才, 0.6523643136024475',\n",
       " '強那, 0.6521029472351074',\n",
       " '刺傷, 0.6514155268669128',\n",
       " '和賽, 0.6514111161231995',\n",
       " '總冠是, 0.6513991355895996',\n",
       " '三王, 0.6510375738143921',\n",
       " '四王, 0.650682806968689',\n",
       " '好待, 0.650626540184021',\n",
       " '損兵折將, 0.6505955457687378',\n",
       " '喪妻, 0.6501014232635498',\n",
       " '太貧攻, 0.6494558453559875',\n",
       " '刺時, 0.6493280529975891',\n",
       " '士會, 0.6490289568901062',\n",
       " 'Bowen, 0.6487063765525818',\n",
       " '兩冠還, 0.6485756039619446',\n",
       " '真看, 0.6485364437103271',\n",
       " '熊能, 0.6477900743484497',\n",
       " '崩解, 0.6477787494659424',\n",
       " '互拼, 0.6477399468421936',\n",
       " 'Pau, 0.6474667191505432',\n",
       " '全傷, 0.6469662189483643',\n",
       " '一腳, 0.6467094421386719',\n",
       " '只傷, 0.6465816497802734',\n",
       " '踩過, 0.6462936401367188',\n",
       " '共犯, 0.645233154296875',\n",
       " '青賽傷, 0.6443237662315369',\n",
       " '贏勇, 0.643943727016449',\n",
       " '強會, 0.6436683535575867',\n",
       " '剛組, 0.6436221599578857',\n",
       " '西打, 0.643355131149292',\n",
       " 'POP, 0.6433429718017578',\n",
       " 'nagass, 0.643121600151062',\n",
       " '過阿, 0.6430140137672424',\n",
       " 'garden, 0.6430029273033142',\n",
       " '單塔, 0.6428974270820618',\n",
       " '暴龍過, 0.6428350806236267',\n",
       " '賽隊還, 0.6423216462135315',\n",
       " 'ru81l3, 0.6421146988868713',\n",
       " '三核, 0.6415862441062927',\n",
       " '夠坦, 0.6410912275314331',\n",
       " '打西冠, 0.6409593224525452',\n",
       " 'wayne77925, 0.6404115557670593',\n",
       " '西冠有, 0.6403962969779968',\n",
       " 'bearlex, 0.640218198299408',\n",
       " '各傷, 0.6399869322776794',\n",
       " '兩老, 0.6393008232116699',\n",
       " 'birdruei, 0.6392287015914917',\n",
       " 'Duncan, 0.6391945481300354',\n",
       " '說老實話, 0.6388564109802246',\n",
       " '當老八, 0.6383295059204102',\n",
       " '前輪, 0.63809734582901',\n",
       " '打缺, 0.637790858745575',\n",
       " 'Splitter, 0.6377079486846924',\n",
       " '德里奇, 0.6376944184303284',\n",
       " 'bowen, 0.6376895308494568',\n",
       " '闖過, 0.6376045942306519',\n",
       " '打二, 0.6375802755355835',\n",
       " '那一勝, 0.6374695897102356',\n",
       " '被勇, 0.6370086073875427',\n",
       " 'langeo, 0.6365494132041931',\n",
       " '一勝才, 0.636165976524353',\n",
       " '每輪, 0.6357915997505188',\n",
       " '黑雷三哨, 0.6357795596122742',\n",
       " '我勇全, 0.6356186270713806',\n",
       " 'MSN, 0.6351789236068726',\n",
       " '姐姐, 0.635132372379303',\n",
       " '逼急, 0.6351009011268616',\n",
       " '老弱, 0.6348370313644409',\n",
       " '1314, 0.6346100568771362',\n",
       " '黑太陽, 0.6344476342201233',\n",
       " '蛋皮, 0.6344327926635742',\n",
       " '硬拼, 0.6343908309936523',\n",
       " '姆斯敢, 0.6338942050933838',\n",
       " '灰, 0.6338841319084167',\n",
       " 'TA, 0.6338779926300049',\n",
       " '策略性, 0.6338750123977661',\n",
       " '鳥隊, 0.6338005661964417',\n",
       " '進西冠, 0.6335697770118713',\n",
       " '08, 0.633373498916626',\n",
       " '組起, 0.6333102583885193',\n",
       " '他勇, 0.6331902742385864',\n",
       " '對坦隊, 0.6328580975532532',\n",
       " '大羅, 0.6326274871826172',\n",
       " '對灰熊, 0.6325531601905823',\n",
       " '熊才, 0.632293701171875',\n",
       " '不好惹, 0.6322541236877441',\n",
       " '價用, 0.6322211623191833',\n",
       " '硬坦, 0.6321097612380981',\n",
       " '掃出去, 0.6319384574890137',\n",
       " 'PlayOFF, 0.6315502524375916',\n",
       " '換口味, 0.6314861178398132',\n",
       " '前八都, 0.6313533782958984',\n",
       " '正規軍, 0.6313367486000061',\n",
       " '兩關, 0.631267249584198',\n",
       " 'Gregg, 0.6310651898384094',\n",
       " '馬刺進, 0.6307975053787231',\n",
       " '綠杉, 0.6304293274879456',\n",
       " '爆氣贏, 0.6304216980934143',\n",
       " 'Ginobili, 0.6300048232078552',\n",
       " '還真強, 0.6299805045127869',\n",
       " '更何, 0.6298683881759644',\n",
       " '雷火, 0.6298554539680481',\n",
       " '還債, 0.6298253536224365',\n",
       " 'popp, 0.6294569969177246',\n",
       " 'tp, 0.6290126442909241',\n",
       " 'ftsn, 0.6290037035942078',\n",
       " '老包, 0.6288249492645264']"
      ]
     },
     "execution_count": 41,
     "metadata": {},
     "output_type": "execute_result"
    }
   ],
   "source": [
    "with open('{y}/{x}'.format(x='Word2Vec/keyword_result_Total_20180614_20170510_stop_Spurs', y='..'), 'r') as in_file:\n",
    "    lines = in_file.read().splitlines()\n",
    "lines"
   ]
  },
  {
   "cell_type": "code",
   "execution_count": 46,
   "metadata": {},
   "outputs": [
    {
     "data": {
      "text/plain": [
       "'馬刺隊, 0.8053047060966492'"
      ]
     },
     "execution_count": 46,
     "metadata": {},
     "output_type": "execute_result"
    }
   ],
   "source": [
    "text_file = '../Word2Vec/keyword_result_Total_20180614_20170510_stop_Spurs'\n",
    "with open(text_file, \"r\") as word2vec_f:\n",
    "    lines = word2vec_f.read().splitlines()\n",
    "lines[0]"
   ]
  },
  {
   "cell_type": "code",
   "execution_count": 35,
   "metadata": {},
   "outputs": [],
   "source": [
    "for line in lines:\n",
    "    print(line)"
   ]
  },
  {
   "cell_type": "code",
   "execution_count": 22,
   "metadata": {},
   "outputs": [
    {
     "name": "stdout",
     "output_type": "stream",
     "text": [
      "['123', ' 456']\n"
     ]
    }
   ],
   "source": [
    "a = '123, 456'\n",
    "print(a.split(','))"
   ]
  },
  {
   "cell_type": "code",
   "execution_count": 52,
   "metadata": {},
   "outputs": [
    {
     "data": {
      "text/plain": [
       "('123', 4)"
      ]
     },
     "execution_count": 52,
     "metadata": {},
     "output_type": "execute_result"
    }
   ],
   "source": [
    "a = ('123', 456)\n",
    "a\n",
    "b = []\n",
    "b.append(a)\n",
    "b\n",
    "\n",
    "\n",
    "cc = \"123\"\n",
    "dd = 4\n",
    "a = (cc, dd)\n",
    "a"
   ]
  },
  {
   "cell_type": "code",
   "execution_count": 58,
   "metadata": {},
   "outputs": [
    {
     "data": {
      "text/plain": [
       "[('a', 123)]"
      ]
     },
     "execution_count": 58,
     "metadata": {},
     "output_type": "execute_result"
    }
   ],
   "source": [
    "c = []\n",
    "c.append(('a', 123))\n",
    "d = []\n",
    "d.append(('b', 456))\n",
    "d\n",
    "c"
   ]
  },
  {
   "cell_type": "code",
   "execution_count": 60,
   "metadata": {},
   "outputs": [
    {
     "data": {
      "text/plain": [
       "[('a', 123), ('b', 456)]"
      ]
     },
     "execution_count": 60,
     "metadata": {},
     "output_type": "execute_result"
    }
   ],
   "source": [
    "merged_list = c+d\n",
    "merged_list"
   ]
  },
  {
   "cell_type": "code",
   "execution_count": 61,
   "metadata": {},
   "outputs": [
    {
     "data": {
      "text/plain": [
       "[('a', 123), ('b', 456)]"
      ]
     },
     "execution_count": 61,
     "metadata": {},
     "output_type": "execute_result"
    }
   ],
   "source": [
    "sorted(merged_list, key=lambda x: x[1])"
   ]
  }
 ],
 "metadata": {
  "kernelspec": {
   "display_name": "Python 3",
   "language": "python",
   "name": "python3"
  },
  "language_info": {
   "codemirror_mode": {
    "name": "ipython",
    "version": 3
   },
   "file_extension": ".py",
   "mimetype": "text/x-python",
   "name": "python",
   "nbconvert_exporter": "python",
   "pygments_lexer": "ipython3",
   "version": "3.6.5"
  }
 },
 "nbformat": 4,
 "nbformat_minor": 2
}
