{
 "cells": [
  {
   "cell_type": "code",
   "execution_count": 5,
   "metadata": {},
   "outputs": [
    {
     "name": "stdout",
     "output_type": "stream",
     "text": [
      "False\n",
      "{'灰熊', '勇士隊', '老鷹', '金塊', '勇士', '魔術', '公牛', '籃網', '鵜鶘', '灰狼', '黃蜂', '阿拓', '水鳥', '拓荒者', '國王', '騎士', '雷霆', '可愛', '我勇', '湖人', '活塞', '球隊', '客場', '尼克', '火箭', '阿爵', '太陽', 'XD', '爵士', '超賽', '快艇', '...', '熱火', '小牛'}\n",
      "{'and', '灰熊', '勇士隊', '老鷹', 'to', 'by', 'then', '勇士', 'can', '金塊', 'as', '魔術', '公牛', '籃網', 'with', '鵜鶘', '熱火', 'from', 'is', 'which', 'be', 'for', 'on', '灰狼', 'in', '黃蜂', 'has', '阿拓', '水鳥', '拓荒者', '國王', '騎士', '雷霆', '可愛', 'you', 'we', '我勇', '湖人', 'an', 'not', '活塞', 'this', 'at', 'or', 'of', '球隊', '客場', '尼克', '火箭', 'one', '阿爵', '太陽', 'XD', '爵士', 'it', 'all', '超賽', '快艇', 'are', '...', 'if', 'have', 'that', 'the', '小牛'}\n"
     ]
    }
   ],
   "source": [
    "from jieba import analyse\n",
    "import copy\n",
    "\n",
    "\n",
    "# 将STOP_WORDS集合深度拷贝出来\n",
    "stopwords0 = copy.deepcopy(analyse.default_tfidf.STOP_WORDS)\n",
    "# 设置用户自定停用词集合之前，将停用词集合深度拷贝出来  \n",
    "stopwords1 = copy.deepcopy(analyse.default_tfidf.stop_words)\n",
    "\n",
    "print(stopwords0 == stopwords1)\n",
    "print(stopwords1 - stopwords0)\n",
    "\n",
    "# 设置用户自定停用词集合\n",
    "analyse.set_stop_words(\"../Word_Segmentation/stopword_lib/stopwords.txt\")\n",
    "# 设置用户自定停用词集合之后，将停用词集合深度拷贝出来\n",
    "#stopwords2 =  copy.deepcopy(analyse.default_tfidf.stop_words)\n",
    "\n",
    "#print(stopwords1 == stopwords2)\n",
    "#print(stopwords2 - stopwords1)\n",
    "print(copy.deepcopy(analyse.default_tfidf.stop_words))"
   ]
  },
  {
   "cell_type": "code",
   "execution_count": 6,
   "metadata": {},
   "outputs": [
    {
     "name": "stdout",
     "output_type": "stream",
     "text": [
      "shit = 1\n"
     ]
    }
   ],
   "source": [
    "a = 1\n",
    "print(f'shit = {a}')"
   ]
  },
  {
   "cell_type": "code",
   "execution_count": null,
   "metadata": {},
   "outputs": [],
   "source": []
  }
 ],
 "metadata": {
  "kernelspec": {
   "display_name": "Python 3",
   "language": "python",
   "name": "python3"
  },
  "language_info": {
   "codemirror_mode": {
    "name": "ipython",
    "version": 3
   },
   "file_extension": ".py",
   "mimetype": "text/x-python",
   "name": "python",
   "nbconvert_exporter": "python",
   "pygments_lexer": "ipython3",
   "version": "3.6.5"
  }
 },
 "nbformat": 4,
 "nbformat_minor": 2
}
