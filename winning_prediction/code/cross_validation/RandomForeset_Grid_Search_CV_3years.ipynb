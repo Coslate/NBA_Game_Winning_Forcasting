{
 "cells": [
  {
   "cell_type": "code",
   "execution_count": 1,
   "metadata": {},
   "outputs": [],
   "source": [
    "import numpy as np\n",
    "import pandas as pd\n",
    "import time\n",
    "\n",
    "# @param dfFile: pandas.DataFrame ('nba_preprocessed.csv')\n",
    "# @param dateStart, dateEnd: str in the format of 'YYYY-MM-DD'\n",
    "# @param attriToDrop: list[str]\n",
    "# @return X, Y: pandas.DataFrame\n",
    "# featureExtraction() outputs X, Y for model training.\n",
    "# Game date can be assigned\n",
    "# Attribute to be dropped can be assigned\n",
    "def featureExtraction(dfFile, dateStart='1000-01-01', dateEnd='2999-12-31', attriToDrop=None):\n",
    "    df = pd.read_csv(dfFile)\n",
    "    \n",
    "    # Date selection\n",
    "    df = df.loc[lambda df: (df.Date_A > dateStart) & (df.Date_A < dateEnd), :].reset_index(drop=True)\n",
    "    \n",
    "    # Get label Y\n",
    "    Y = df[['W/L_A']]\n",
    "    Y = Y.rename(columns={'W/L_A': 'Label'})\n",
    "    \n",
    "    # Get attributes X\n",
    "    colToDrop = ['Team_A', 'Date_A', 'W/L_A', 'Score_A', 'Opponent_A', 'Team_B', 'Date_B', 'W/L_B', 'Home/Away_B', 'Score_B', 'Opponent_B']\n",
    "    colToDrop += attriToDrop if attriToDrop else []\n",
    "    X = df.drop(columns = colToDrop)\n",
    "    \n",
    "    return X, Y"
   ]
  },
  {
   "cell_type": "code",
   "execution_count": 2,
   "metadata": {},
   "outputs": [],
   "source": [
    "from sklearn.datasets import load_breast_cancer\n",
    "from sklearn.model_selection import StratifiedKFold\n",
    "from sklearn.model_selection import cross_val_score\n",
    "from sklearn.model_selection import GridSearchCV\n",
    "from matplotlib import pyplot as plt\n",
    "from sklearn.svm import SVC\n",
    "import numpy as np\n",
    "import operator\n",
    "%matplotlib inline\n",
    "\n",
    "def CrossValidationGridSearchNested(X_data, Y_data, num_trials, fold_num, est_classifcation, tuned_param, scoring):\n",
    "    max_score = -1\n",
    "    best_estimator = est_classifcation\n",
    "    \n",
    "    for i in range(num_trials):\n",
    "        inner_cv = StratifiedKFold(n_splits=fold_num, random_state=i, shuffle=True)\n",
    "        outer_cv = StratifiedKFold(n_splits=fold_num, random_state=i+1, shuffle=True)\n",
    "\n",
    "        # Non_nested parameter search and scoring\n",
    "        clf = GridSearchCV(estimator=est_classifcation, param_grid=tuned_param, cv=inner_cv, scoring=scoring)\n",
    "        clf.fit(X_data, Y_data)\n",
    "        \n",
    "        # CV with parameter optimization\n",
    "        param_score = cross_val_score(clf.best_estimator_, X=X_data, y=Y_data, cv=outer_cv, scoring=scoring).mean()\n",
    "        if(param_score > max_score):\n",
    "            max_score = param_score\n",
    "            best_estimator = clf.best_estimator_\n",
    "            \n",
    "        progress = (i+1)/num_trials*100\n",
    "        print(f'> progress = {progress}%')\n",
    "    \n",
    "    return (max_score, best_estimator)"
   ]
  },
  {
   "cell_type": "code",
   "execution_count": 3,
   "metadata": {},
   "outputs": [],
   "source": [
    "dfFile = '../NBA_Ino_part/nba_preprocessed.csv'\n",
    "dateStart = '2015-10-01'\n",
    "dateEnd = '2018-04-30'\n",
    "# X, Y = featureExtraction(dfFile, dateStart, dateEnd)\n",
    "X, Y = featureExtraction(dfFile, attriToDrop=['PTS_A', 'PTS_B'], dateStart=dateStart, dateEnd=dateEnd)\n",
    "X_val = X.values\n",
    "Y_val = Y.values"
   ]
  },
  {
   "cell_type": "code",
   "execution_count": 4,
   "metadata": {},
   "outputs": [
    {
     "data": {
      "text/plain": [
       "7234"
      ]
     },
     "execution_count": 4,
     "metadata": {},
     "output_type": "execute_result"
    }
   ],
   "source": [
    "len(X_val)"
   ]
  },
  {
   "cell_type": "code",
   "execution_count": 5,
   "metadata": {},
   "outputs": [
    {
     "data": {
      "text/plain": [
       "7234"
      ]
     },
     "execution_count": 5,
     "metadata": {},
     "output_type": "execute_result"
    }
   ],
   "source": [
    "len(Y_val)"
   ]
  },
  {
   "cell_type": "code",
   "execution_count": null,
   "metadata": {},
   "outputs": [
    {
     "name": "stdout",
     "output_type": "stream",
     "text": [
      "> progress = 10.0%\n"
     ]
    }
   ],
   "source": [
    "from sklearn.ensemble import RandomForestClassifier\n",
    "from time import time\n",
    "\n",
    "# Set the parameters by cross-validation\n",
    "tuned_max_features = ['auto', 'sqrt', 'log2']\n",
    "tuned_parameters = {\n",
    "                     \"n_estimators\": range(100, 1001, 100), \n",
    "                     \"criterion\": [\"gini\", \"entropy\"],\n",
    "                     \"bootstrap\": [True, False],\n",
    "                     \"max_depth\": [3, 5, 8, 9, 11, 12, 13],\n",
    "                     \"max_features\": tuned_max_features\n",
    "                   }\n",
    "\n",
    "# Number of random trials\n",
    "NUM_TRIALS = 10\n",
    "\n",
    "# We will use a Support Vector Classifier with \"rbf\" kernel\n",
    "rf = RandomForestClassifier()\n",
    "\n",
    "start = time()\n",
    "(max_score, rf_best_estimator) = CrossValidationGridSearchNested(X_val, Y_val.ravel(), NUM_TRIALS, 10, rf, tuned_parameters, 'roc_auc')\n",
    "rf_best_parameter = rf_best_estimator.get_params()\n",
    "\n",
    "print(\"CrossValidationGridSearchNested of RandomForestClassifier wih NUM_TRIALS = %2.0d took %.2f seconds.\"%(NUM_TRIALS, (time() - start)))\n",
    "print(f'\\nmax_score = {max_score}\\n')\n",
    "print(f'\\nbest_estimator = {rf_best_estimator}\\n')\n",
    "print(f'\\nbest_parameter = {rf_best_parameter}\\n')"
   ]
  },
  {
   "cell_type": "code",
   "execution_count": null,
   "metadata": {},
   "outputs": [],
   "source": []
  }
 ],
 "metadata": {
  "kernelspec": {
   "display_name": "Python 3",
   "language": "python",
   "name": "python3"
  },
  "language_info": {
   "codemirror_mode": {
    "name": "ipython",
    "version": 3
   },
   "file_extension": ".py",
   "mimetype": "text/x-python",
   "name": "python",
   "nbconvert_exporter": "python",
   "pygments_lexer": "ipython3",
   "version": "3.6.4"
  }
 },
 "nbformat": 4,
 "nbformat_minor": 2
}
