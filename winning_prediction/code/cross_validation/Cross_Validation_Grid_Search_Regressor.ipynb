{
 "cells": [
  {
   "cell_type": "code",
   "execution_count": 1,
   "metadata": {},
   "outputs": [],
   "source": [
    "import numpy as np\n",
    "import matplotlib.pyplot as plot\n",
    "from sklearn import tree\n",
    "from sklearn.tree import DecisionTreeRegressor\n",
    "from math import floor\n",
    "import random"
   ]
  },
  {
   "cell_type": "code",
   "execution_count": 2,
   "metadata": {},
   "outputs": [],
   "source": [
    "nPoints = 1000"
   ]
  },
  {
   "cell_type": "code",
   "execution_count": 3,
   "metadata": {},
   "outputs": [],
   "source": [
    "xPlot = [(float(i)/float(nPoints) - 0.5) for i in range(nPoints+1)]\n",
    "X = [[s] for s in xPlot]\n",
    "\n",
    "np.random.seed(1)\n",
    "Y = [s+np.random.normal(scale = 0.1) for s in xPlot]"
   ]
  },
  {
   "cell_type": "code",
   "execution_count": 4,
   "metadata": {
    "scrolled": true
   },
   "outputs": [
    {
     "data": {
      "text/plain": [
       "<function matplotlib.pyplot.show>"
      ]
     },
     "execution_count": 4,
     "metadata": {},
     "output_type": "execute_result"
    },
    {
     "data": {
      "image/png": "[encoded data removed]",
      "text/plain": [
       "<matplotlib.figure.Figure at 0x7fcc5d01fc50>"
      ]
     },
     "metadata": {},
     "output_type": "display_data"
    }
   ],
   "source": [
    "plot.plot(xPlot, Y)\n",
    "plot.axis('tight')\n",
    "plot.xlabel('x')\n",
    "plot.ylabel('y')\n",
    "plot.show"
   ]
  },
  {
   "cell_type": "code",
   "execution_count": 5,
   "metadata": {},
   "outputs": [
    {
     "name": "stdout",
     "output_type": "stream",
     "text": [
      "len_x_train = 700\n",
      "len_x_test = 301\n",
      "len_y_train = 700\n",
      "len_y_trst = 301\n"
     ]
    }
   ],
   "source": [
    "from sklearn.model_selection import train_test_split\n",
    "X_train, X_test, Y_train, Y_test = train_test_split(X, Y, test_size = 0.3, random_state=4)\n",
    "len_x_train = len(X_train)\n",
    "len_x_test = len(X_test)\n",
    "len_y_train = len(Y_train)\n",
    "len_y_test = len(Y_test)\n",
    "\n",
    "print(f'len_x_train = {len_x_train}')\n",
    "print(f'len_x_test = {len_x_test}')\n",
    "print(f'len_y_train = {len_y_train}')\n",
    "print(f'len_y_trst = {len_y_test}')"
   ]
  },
  {
   "cell_type": "code",
   "execution_count": 6,
   "metadata": {},
   "outputs": [],
   "source": [
    "from sklearn.model_selection import GridSearchCV\n",
    "from sklearn.model_selection import StratifiedKFold\n",
    "from sklearn.svm import SVR\n",
    "from sklearn.metrics import classification_report\n",
    "from sklearn.metrics import mean_squared_error\n",
    "\n",
    "# Set the parameters by cross-validation\n",
    "tuned_parameters = [{'kernel': ['rbf'], 'gamma': [1e-3, 1e-4],\n",
    "                     'C': [1, 10, 100, 1000]},\n",
    "                    {'kernel': ['linear'], 'C': [1, 10, 100, 1000]}]"
   ]
  },
  {
   "cell_type": "code",
   "execution_count": 8,
   "metadata": {},
   "outputs": [
    {
     "name": "stdout",
     "output_type": "stream",
     "text": [
      "# Tuning hyper-parameters for neg_mean_squared_error\n",
      "\n",
      "Best parameters set found on development set:\n",
      "\n",
      "{'C': 10, 'kernel': 'linear'}\n",
      "\n",
      "Grid scores on development set:\n",
      "\n",
      "0.053 (+/--0.011) for {'C': 1, 'gamma': 0.001, 'kernel': 'rbf'}\n",
      "0.088 (+/--0.017) for {'C': 1, 'gamma': 0.0001, 'kernel': 'rbf'}\n",
      "0.012 (+/--0.003) for {'C': 10, 'gamma': 0.001, 'kernel': 'rbf'}\n",
      "0.053 (+/--0.011) for {'C': 10, 'gamma': 0.0001, 'kernel': 'rbf'}\n",
      "0.010 (+/--0.003) for {'C': 100, 'gamma': 0.001, 'kernel': 'rbf'}\n",
      "0.012 (+/--0.003) for {'C': 100, 'gamma': 0.0001, 'kernel': 'rbf'}\n",
      "0.010 (+/--0.003) for {'C': 1000, 'gamma': 0.001, 'kernel': 'rbf'}\n",
      "0.010 (+/--0.003) for {'C': 1000, 'gamma': 0.0001, 'kernel': 'rbf'}\n",
      "0.010 (+/--0.003) for {'C': 1, 'kernel': 'linear'}\n",
      "0.010 (+/--0.003) for {'C': 10, 'kernel': 'linear'}\n",
      "0.010 (+/--0.003) for {'C': 100, 'kernel': 'linear'}\n",
      "0.010 (+/--0.003) for {'C': 1000, 'kernel': 'linear'}\n",
      "\n",
      "Detailed classification report:\n",
      "\n",
      "The model is trained on the full development set.\n",
      "The scores are computed on the full evaluation set.\n",
      "\n",
      "mean_squared_error = 0.009425214775836728\n",
      "\n"
     ]
    }
   ],
   "source": [
    "#scores = ['precision', 'recall', 'accuracy', 'f1', 'roc_auc']\n",
    "scores = ['neg_mean_squared_error']\n",
    "\n",
    "for score in scores:\n",
    "    print(\"# Tuning hyper-parameters for %s\" % score)\n",
    "    print()\n",
    "    \n",
    "    clf = GridSearchCV(SVR(), tuned_parameters, cv=10, scoring = score)\n",
    "    clf.fit(X_train, Y_train)\n",
    "\n",
    "    print(\"Best parameters set found on development set:\")\n",
    "    print()\n",
    "    print(clf.best_params_)\n",
    "    print()\n",
    "    print(\"Grid scores on development set:\")\n",
    "    print()\n",
    "    means = clf.cv_results_['mean_test_score']\n",
    "    stds = clf.cv_results_['std_test_score']\n",
    "    for mean, std, params in zip(means, stds, clf.cv_results_['params']):\n",
    "        print(\"%0.3f (+/-%0.03f) for %r\"\n",
    "              % (-mean, -std * 2, params))\n",
    "    print()\n",
    "\n",
    "    print(\"Detailed classification report:\")\n",
    "    print()\n",
    "    print(\"The model is trained on the full development set.\")\n",
    "    print(\"The scores are computed on the full evaluation set.\")\n",
    "    print()\n",
    "    Y_true, Y_pred = Y_test, clf.predict(X_test)\n",
    "    print(f'mean_squared_error = {mean_squared_error(Y_true, Y_pred)}')\n",
    "    #print(classification_report(Y_true, Y_pred))\n",
    "    print()"
   ]
  },
  {
   "cell_type": "code",
   "execution_count": null,
   "metadata": {},
   "outputs": [],
   "source": []
  }
 ],
 "metadata": {
  "kernelspec": {
   "display_name": "Python 3",
   "language": "python",
   "name": "python3"
  },
  "language_info": {
   "codemirror_mode": {
    "name": "ipython",
    "version": 3
   },
   "file_extension": ".py",
   "mimetype": "text/x-python",
   "name": "python",
   "nbconvert_exporter": "python",
   "pygments_lexer": "ipython3",
   "version": "3.6.4"
  }
 },
 "nbformat": 4,
 "nbformat_minor": 2
}
