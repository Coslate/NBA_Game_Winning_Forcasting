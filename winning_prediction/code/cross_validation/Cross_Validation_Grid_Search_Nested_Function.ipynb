{
 "cells": [
  {
   "cell_type": "code",
   "execution_count": 1,
   "metadata": {},
   "outputs": [],
   "source": [
    "from sklearn.datasets import load_breast_cancer\n",
    "from sklearn.model_selection import StratifiedKFold\n",
    "from sklearn.model_selection import cross_val_score\n",
    "from sklearn.model_selection import GridSearchCV\n",
    "from matplotlib import pyplot as plt\n",
    "from sklearn.svm import SVC\n",
    "import numpy as np\n",
    "import pandas as pd\n",
    "import operator\n",
    "%matplotlib inline"
   ]
  },
  {
   "cell_type": "markdown",
   "metadata": {},
   "source": [
    "# Function Parameter Description\n",
    "X_data : The features of the data.\n",
    "\n",
    "Y_data : The labels of the data.\n",
    "\n",
    "num_trials : The number of run to repeat the \"fit parameter\"+\"cross validation scoring\" procedures.\n",
    "\n",
    "fold_num : The total fold number when running cross validation. Both inner cross validaton and outer cross validation will use the fold number\n",
    "\n",
    "est_classification : The estimator of classification.\n",
    "\n",
    "tuned_param : The parameter gird that is to search for the best parameter.\n",
    "\n",
    "scoring : The scoring method for estimating the performance of the model."
   ]
  },
  {
   "cell_type": "code",
   "execution_count": 2,
   "metadata": {},
   "outputs": [],
   "source": [
    "def CrossValidationGridSearchNested(origin_df_X, origin_df_Y, num_trials, fold_num, est_classifcation, tuned_param, scoring):\n",
    "    X_data = origin_df_X.values\n",
    "    Y_data = origin_df_Y.values.ravel()\n",
    "    max_score = -1\n",
    "    best_estimator = est_classifcation\n",
    "    is_tuned_param_empty = (tuned_param == []) | (tuned_param == None)\n",
    "    \n",
    "    for i in range(num_trials):\n",
    "        inner_cv = StratifiedKFold(n_splits=fold_num, random_state=i, shuffle=True)\n",
    "        outer_cv = StratifiedKFold(n_splits=fold_num, random_state=i+1, shuffle=True)\n",
    "        \n",
    "        if(is_tuned_param_empty):\n",
    "            param_score = cross_val_score(est_classifcation, X=X_data, y=Y_data, cv=outer_cv, scoring=scoring).mean()\n",
    "        else:\n",
    "            # Non_nested parameter search and scoring\n",
    "            clf = GridSearchCV(estimator=est_classifcation, param_grid=tuned_param, cv=inner_cv, scoring=scoring)\n",
    "            clf.fit(X_data, Y_data)\n",
    "        \n",
    "            # CV with parameter optimization\n",
    "            param_score = cross_val_score(clf.best_estimator_, X=X_data, y=Y_data, cv=outer_cv, scoring=scoring).mean()\n",
    "            \n",
    "        if(param_score > max_score):\n",
    "            max_score = param_score\n",
    "            if(is_tuned_param_empty):\n",
    "                best_estimator = est_classifcation\n",
    "            else:\n",
    "                best_estimator = clf.best_estimator_\n",
    "            \n",
    "        progress = (i+1)/num_trials*100\n",
    "        print(f'> progress = {progress}%')\n",
    "    \n",
    "    return (max_score, best_estimator)"
   ]
  },
  {
   "cell_type": "markdown",
   "metadata": {},
   "source": [
    "# Example"
   ]
  },
  {
   "cell_type": "code",
   "execution_count": 3,
   "metadata": {},
   "outputs": [
    {
     "name": "stdout",
     "output_type": "stream",
     "text": [
      "> progress = 3.3333333333333335%\n",
      "> progress = 6.666666666666667%\n",
      "> progress = 10.0%\n",
      "> progress = 13.333333333333334%\n",
      "> progress = 16.666666666666664%\n",
      "> progress = 20.0%\n",
      "> progress = 23.333333333333332%\n",
      "> progress = 26.666666666666668%\n",
      "> progress = 30.0%\n",
      "> progress = 33.33333333333333%\n",
      "> progress = 36.666666666666664%\n",
      "> progress = 40.0%\n",
      "> progress = 43.333333333333336%\n",
      "> progress = 46.666666666666664%\n",
      "> progress = 50.0%\n",
      "> progress = 53.333333333333336%\n",
      "> progress = 56.666666666666664%\n",
      "> progress = 60.0%\n",
      "> progress = 63.33333333333333%\n",
      "> progress = 66.66666666666666%\n",
      "> progress = 70.0%\n",
      "> progress = 73.33333333333333%\n",
      "> progress = 76.66666666666667%\n",
      "> progress = 80.0%\n",
      "> progress = 83.33333333333334%\n",
      "> progress = 86.66666666666667%\n",
      "> progress = 90.0%\n",
      "> progress = 93.33333333333333%\n",
      "> progress = 96.66666666666667%\n",
      "> progress = 100.0%\n",
      "\n",
      "max_score = 0.9936468425754139\n",
      "\n",
      "\n",
      "best_estimator = SVC(C=10, cache_size=200, class_weight=None, coef0=0.0,\n",
      "  decision_function_shape='ovr', degree=3, gamma='auto', kernel='linear',\n",
      "  max_iter=-1, probability=False, random_state=None, shrinking=True,\n",
      "  tol=0.001, verbose=False)\n",
      "\n",
      "\n",
      "best_parameter = {'C': 10, 'cache_size': 200, 'class_weight': None, 'coef0': 0.0, 'decision_function_shape': 'ovr', 'degree': 3, 'gamma': 'auto', 'kernel': 'linear', 'max_iter': -1, 'probability': False, 'random_state': None, 'shrinking': True, 'tol': 0.001, 'verbose': False}\n",
      "\n"
     ]
    }
   ],
   "source": [
    "data = load_breast_cancer()\n",
    "X = data.data\n",
    "Y = data.target\n",
    "#----------------Generate original df for reference-------------------#\n",
    "org_columns = [\"col_org_\"+str(x) for x in range(0, len(X[0]), 1)]\n",
    "original_df_X = pd.DataFrame(data = X, columns = org_columns)\n",
    "\n",
    "org_columns = [\"Label\"+str(x) for x in range(0, len(Y.reshape(len(Y), 1)[0]), 1)]\n",
    "original_df_Y = pd.DataFrame(data = Y.reshape(len(Y), 1), columns = org_columns)\n",
    "\n",
    "\n",
    "# Set the parameters by cross-validation\n",
    "tuned_parameters = [{'kernel': ['rbf'], 'gamma': [1e-3, 1e-4],\n",
    "                     'C': [1, 10, 100, 1000]},\n",
    "                    {'kernel': ['linear'], 'C': [1, 10, 100, 1000]}]\n",
    "\n",
    "# Number of random trials\n",
    "NUM_TRIALS = 30\n",
    "\n",
    "# We will use a Support Vector Classifier with \"rbf\" kernel\n",
    "svm = SVC()\n",
    "\n",
    "(max_score, svm_best_estimator) = CrossValidationGridSearchNested(original_df_X, original_df_Y, NUM_TRIALS, 10, svm, tuned_parameters, 'roc_auc')\n",
    "svm_best_parameter = svm_best_estimator.get_params()\n",
    "\n",
    "print(f'\\nmax_score = {max_score}\\n')\n",
    "print(f'\\nbest_estimator = {svm_best_estimator}\\n')\n",
    "print(f'\\nbest_parameter = {svm_best_parameter}\\n')"
   ]
  },
  {
   "cell_type": "code",
   "execution_count": null,
   "metadata": {},
   "outputs": [],
   "source": []
  }
 ],
 "metadata": {
  "kernelspec": {
   "display_name": "Python 3",
   "language": "python",
   "name": "python3"
  },
  "language_info": {
   "codemirror_mode": {
    "name": "ipython",
    "version": 3
   },
   "file_extension": ".py",
   "mimetype": "text/x-python",
   "name": "python",
   "nbconvert_exporter": "python",
   "pygments_lexer": "ipython3",
   "version": "3.6.4"
  }
 },
 "nbformat": 4,
 "nbformat_minor": 2
}
