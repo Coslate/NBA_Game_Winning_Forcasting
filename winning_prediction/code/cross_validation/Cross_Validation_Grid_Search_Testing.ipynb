{
 "cells": [
  {
   "cell_type": "code",
   "execution_count": 1,
   "metadata": {},
   "outputs": [
    {
     "name": "stdout",
     "output_type": "stream",
     "text": [
      "len_x_train = 398\n",
      "len_x_test = 171\n",
      "len_y_train = 398\n",
      "len_y_trst = 171\n",
      "# Tuning hyper-parameters for roc_auc\n",
      "\n",
      "Best parameters set found on development set:\n",
      "\n",
      "{'C': 1000, 'kernel': 'linear'}\n",
      "\n",
      "Grid scores on development set:\n",
      "\n",
      "-0.968 (+/--0.052) for {'C': 1, 'gamma': 0.001, 'kernel': 'rbf'}\n",
      "-0.977 (+/--0.051) for {'C': 1, 'gamma': 0.0001, 'kernel': 'rbf'}\n",
      "-0.954 (+/--0.072) for {'C': 10, 'gamma': 0.001, 'kernel': 'rbf'}\n",
      "-0.968 (+/--0.068) for {'C': 10, 'gamma': 0.0001, 'kernel': 'rbf'}\n",
      "-0.954 (+/--0.072) for {'C': 100, 'gamma': 0.001, 'kernel': 'rbf'}\n",
      "-0.958 (+/--0.067) for {'C': 100, 'gamma': 0.0001, 'kernel': 'rbf'}\n",
      "-0.954 (+/--0.072) for {'C': 1000, 'gamma': 0.001, 'kernel': 'rbf'}\n",
      "-0.947 (+/--0.075) for {'C': 1000, 'gamma': 0.0001, 'kernel': 'rbf'}\n",
      "-0.989 (+/--0.027) for {'C': 1, 'kernel': 'linear'}\n",
      "-0.986 (+/--0.038) for {'C': 10, 'kernel': 'linear'}\n",
      "-0.990 (+/--0.019) for {'C': 100, 'kernel': 'linear'}\n",
      "-0.991 (+/--0.015) for {'C': 1000, 'kernel': 'linear'}\n",
      "\n",
      "Detailed classification report:\n",
      "\n",
      "The model is trained on the full development set.\n",
      "The scores are computed on the full evaluation set.\n",
      "\n",
      "             precision    recall  f1-score   support\n",
      "\n",
      "          0       0.87      0.96      0.91        54\n",
      "          1       0.98      0.93      0.96       117\n",
      "\n",
      "avg / total       0.95      0.94      0.94       171\n",
      "\n",
      "\n"
     ]
    }
   ],
   "source": [
    "from sklearn.datasets import load_breast_cancer\n",
    "from sklearn.model_selection import GridSearchCV\n",
    "from sklearn.model_selection import StratifiedKFold\n",
    "from sklearn.svm import SVC\n",
    "from sklearn.metrics import classification_report\n",
    "from sklearn.metrics import mean_squared_error\n",
    "from sklearn.model_selection import StratifiedKFold\n",
    "from sklearn.model_selection import train_test_split\n",
    "from sklearn.model_selection import cross_val_score\n",
    "\n",
    "data = load_breast_cancer()\n",
    "X = data.data\n",
    "Y = data.target\n",
    "\n",
    "# Set the parameters by cross-validation\n",
    "tuned_parameters = [{'kernel': ['rbf'], 'gamma': [1e-3, 1e-4],\n",
    "                     'C': [1, 10, 100, 1000]},\n",
    "                    {'kernel': ['linear'], 'C': [1, 10, 100, 1000]}]\n",
    "\n",
    "from sklearn.model_selection import train_test_split\n",
    "X_train, X_test, Y_train, Y_test = train_test_split(X, Y, test_size = 0.3, random_state=4)\n",
    "len_x_train = len(X_train)\n",
    "len_x_test = len(X_test)\n",
    "len_y_train = len(Y_train)\n",
    "len_y_test = len(Y_test)\n",
    "\n",
    "print(f'len_x_train = {len_x_train}')\n",
    "print(f'len_x_test = {len_x_test}')\n",
    "print(f'len_y_train = {len_y_train}')\n",
    "print(f'len_y_trst = {len_y_test}')\n",
    "\n",
    "scores = ['roc_auc']\n",
    "\n",
    "for score in scores:\n",
    "    print(\"# Tuning hyper-parameters for %s\" % score)\n",
    "    print()\n",
    "    \n",
    "    skf = StratifiedKFold(n_splits=10, random_state=25, shuffle=True)\n",
    "    clf = GridSearchCV(SVC(), tuned_parameters, cv=skf, scoring = score)\n",
    "    clf.fit(X_train, Y_train)\n",
    "\n",
    "    print(\"Best parameters set found on development set:\")\n",
    "    print()\n",
    "    print(clf.best_params_)\n",
    "    print()\n",
    "    print(\"Grid scores on development set:\")\n",
    "    print()\n",
    "    means = clf.cv_results_['mean_test_score']\n",
    "    stds = clf.cv_results_['std_test_score']\n",
    "    for mean, std, params in zip(means, stds, clf.cv_results_['params']):\n",
    "        print(\"%0.3f (+/-%0.03f) for %r\"\n",
    "              % (-mean, -std * 2, params))\n",
    "    print()\n",
    "\n",
    "    print(\"Detailed classification report:\")\n",
    "    print()\n",
    "    print(\"The model is trained on the full development set.\")\n",
    "    print(\"The scores are computed on the full evaluation set.\")\n",
    "    print()\n",
    "    Y_true, Y_pred = Y_test, clf.predict(X_test)\n",
    "    print(classification_report(Y_true, Y_pred))\n",
    "    print()"
   ]
  },
  {
   "cell_type": "code",
   "execution_count": 2,
   "metadata": {},
   "outputs": [
    {
     "name": "stdout",
     "output_type": "stream",
     "text": [
      "<class 'dict'>\n",
      "{'C': 1000, 'kernel': 'linear'}\n"
     ]
    }
   ],
   "source": [
    "print(f'{type(clf.best_params_)}')\n",
    "print(clf.best_params_)"
   ]
  },
  {
   "cell_type": "code",
   "execution_count": 3,
   "metadata": {},
   "outputs": [
    {
     "data": {
      "text/plain": [
       "SVC(C=1000, cache_size=200, class_weight=None, coef0=0.0,\n",
       "  decision_function_shape='ovr', degree=3, gamma='auto', kernel='linear',\n",
       "  max_iter=-1, probability=False, random_state=None, shrinking=True,\n",
       "  tol=0.001, verbose=False)"
      ]
     },
     "execution_count": 3,
     "metadata": {},
     "output_type": "execute_result"
    }
   ],
   "source": [
    "clf.best_estimator_"
   ]
  },
  {
   "cell_type": "code",
   "execution_count": 4,
   "metadata": {},
   "outputs": [],
   "source": [
    "nested_score = cross_val_score(clf.best_estimator_, X=X_test, y=Y_test, cv=10, scoring = 'accuracy')"
   ]
  },
  {
   "cell_type": "code",
   "execution_count": 6,
   "metadata": {},
   "outputs": [
    {
     "data": {
      "text/plain": [
       "0.9354983660130719"
      ]
     },
     "execution_count": 6,
     "metadata": {},
     "output_type": "execute_result"
    }
   ],
   "source": [
    "nested_score.mean()"
   ]
  },
  {
   "cell_type": "code",
   "execution_count": 11,
   "metadata": {},
   "outputs": [
    {
     "data": {
      "text/plain": [
       "{'C': 1000,\n",
       " 'cache_size': 200,\n",
       " 'class_weight': None,\n",
       " 'coef0': 0.0,\n",
       " 'decision_function_shape': 'ovr',\n",
       " 'degree': 3,\n",
       " 'gamma': 'auto',\n",
       " 'kernel': 'linear',\n",
       " 'max_iter': -1,\n",
       " 'probability': False,\n",
       " 'random_state': None,\n",
       " 'shrinking': True,\n",
       " 'tol': 0.001,\n",
       " 'verbose': False}"
      ]
     },
     "execution_count": 11,
     "metadata": {},
     "output_type": "execute_result"
    }
   ],
   "source": [
    "clf.best_estimator_.get_params()"
   ]
  },
  {
   "cell_type": "code",
   "execution_count": null,
   "metadata": {},
   "outputs": [],
   "source": []
  }
 ],
 "metadata": {
  "kernelspec": {
   "display_name": "Python 3",
   "language": "python",
   "name": "python3"
  },
  "language_info": {
   "codemirror_mode": {
    "name": "ipython",
    "version": 3
   },
   "file_extension": ".py",
   "mimetype": "text/x-python",
   "name": "python",
   "nbconvert_exporter": "python",
   "pygments_lexer": "ipython3",
   "version": "3.6.4"
  }
 },
 "nbformat": 4,
 "nbformat_minor": 2
}
